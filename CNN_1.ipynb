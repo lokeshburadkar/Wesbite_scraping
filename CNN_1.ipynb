{
 "cells": [
  {
   "cell_type": "code",
   "execution_count": 7,
   "metadata": {
    "scrolled": true
   },
   "outputs": [],
   "source": [
    "def cnn_scrap(keyword):\n",
    "    import webbrowser\n",
    "    import requests\n",
    "    from bs4 import BeautifulSoup\n",
    "    import os\n",
    "    import re\n",
    "    from selenium import webdriver\n",
    "    chrome_path=r\"C:\\Users\\ADMIN\\Desktop\\CIMB Work\\chromedriver.exe\"\n",
    "    from datetime import datetime, timedelta\n",
    "    import warnings\n",
    "    warnings.filterwarnings('ignore')\n",
    "    from fuzzywuzzy import fuzz\n",
    "    import pandas as pd\n",
    "    import numpy as np\n",
    "    import time\n",
    "    \n",
    "    todaysdate=datetime.now().strftime(\"%Y-%m-%d\")\n",
    "    last_date=(datetime.now() + timedelta(days=-6)).strftime(\"%Y-%m-%d\")\n",
    "    url_base=[]\n",
    "    headline=[]\n",
    "    headline_url=[]\n",
    "    cat=[]\n",
    "    date=[]\n",
    "    article=[]\n",
    "    \n",
    "    for key in keyword:\n",
    "        base_url=\"https://edition.cnn.com/search?size=20&q={}&sort=newest\".format(key)\n",
    "        driver=webdriver.Chrome(chrome_path)\n",
    "        driver.get(base_url)\n",
    "        time.sleep(3)\n",
    "        real_soup = BeautifulSoup(driver.page_source, 'html.parser')\n",
    "        driver.quit()\n",
    "        ab=real_soup.find_all(\"div\", {\"class\":\"cnn-search__result cnn-search__result--article\"})\n",
    "        if(ab!=None):\n",
    "            for i in ab:\n",
    "                link=i.find(\"a\",href=True)\n",
    "                link1=link['href'].strip().replace(\"//\",'')\n",
    "                headline_url.append(str(link1))\n",
    "                headline_1 = i.find(\"h3\").get_text().strip()\n",
    "                headline.append(str(headline_1))\n",
    "                url_base.append(base_url)\n",
    "                cat.append(key)\n",
    "                date_1=i.find('div',attrs={'class':'cnn-search__result-publish-date'}).get_text().strip()\n",
    "                date.append(str(date_1))\n",
    "                article_1=i.find('div',attrs={'class':'cnn-search__result-body'}).get_text().strip()\n",
    "                article.append(article_1)\n",
    "        else:\n",
    "            headline_url.append(\"No url found\")\n",
    "            headline.append(\"No headline found\")\n",
    "            url_base.append(base_url)\n",
    "            cat.append(key)\n",
    "            date.append(\"\")\n",
    "            article.append(\"\")\n",
    "        \n",
    "\n",
    "    df = pd.DataFrame({'keyword':cat,'main_url':url_base, 'Headline':headline,\n",
    "                       'headline_url': headline_url, 'Date':date,'article':article })\n",
    "    df.drop_duplicates(inplace=True)\n",
    "    df['website']=\"CNN\"\n",
    "\n",
    "    df['Match'] = df.apply(lambda x: fuzz.partial_ratio(x['keyword'], x['article']), axis=1)\n",
    "    df['Match_1'] = df.apply(lambda x: fuzz.token_set_ratio(x['keyword'], x['article']), axis=1)\n",
    "    \n",
    "    return df"
   ]
  },
  {
   "cell_type": "code",
   "execution_count": 8,
   "metadata": {},
   "outputs": [],
   "source": [
    "cnn_df=cnn_scrap(keyword)"
   ]
  },
  {
   "cell_type": "code",
   "execution_count": 10,
   "metadata": {},
   "outputs": [
    {
     "data": {
      "text/html": [
       "<div>\n",
       "<style scoped>\n",
       "    .dataframe tbody tr th:only-of-type {\n",
       "        vertical-align: middle;\n",
       "    }\n",
       "\n",
       "    .dataframe tbody tr th {\n",
       "        vertical-align: top;\n",
       "    }\n",
       "\n",
       "    .dataframe thead th {\n",
       "        text-align: right;\n",
       "    }\n",
       "</style>\n",
       "<table border=\"1\" class=\"dataframe\">\n",
       "  <thead>\n",
       "    <tr style=\"text-align: right;\">\n",
       "      <th></th>\n",
       "      <th>keyword</th>\n",
       "      <th>main_url</th>\n",
       "      <th>Headline</th>\n",
       "      <th>headline_url</th>\n",
       "      <th>Date</th>\n",
       "      <th>article</th>\n",
       "      <th>website</th>\n",
       "      <th>Match</th>\n",
       "      <th>Match_1</th>\n",
       "    </tr>\n",
       "  </thead>\n",
       "  <tbody>\n",
       "    <tr>\n",
       "      <th>0</th>\n",
       "      <td>RP TRADING</td>\n",
       "      <td>https://edition.cnn.com/search?size=20&amp;q=RP TR...</td>\n",
       "      <td>EU fines banks record $2.3B over Libor</td>\n",
       "      <td>http:money.cnn.com/2013/12/04/news/companies/l...</td>\n",
       "      <td>Dec 4, 2013</td>\n",
       "      <td>The European Union has levied a record antitru...</td>\n",
       "      <td>CNN</td>\n",
       "      <td>30</td>\n",
       "      <td>100</td>\n",
       "    </tr>\n",
       "    <tr>\n",
       "      <th>1</th>\n",
       "      <td>RP TRADING</td>\n",
       "      <td>https://edition.cnn.com/search?size=20&amp;q=RP TR...</td>\n",
       "      <td>Three ex-ICAP employees indicted in Libor scandal</td>\n",
       "      <td>http:money.cnn.com/2013/09/25/news/companies/i...</td>\n",
       "      <td>Sep 25, 2013</td>\n",
       "      <td>The Justice Department announced criminal char...</td>\n",
       "      <td>CNN</td>\n",
       "      <td>30</td>\n",
       "      <td>100</td>\n",
       "    </tr>\n",
       "    <tr>\n",
       "      <th>2</th>\n",
       "      <td>RP TRADING</td>\n",
       "      <td>https://edition.cnn.com/search?size=20&amp;q=RP TR...</td>\n",
       "      <td>Rate-fixing scandal shakes three continents</td>\n",
       "      <td>www.cnn.com/2013/02/06/business/libor-rate-fix...</td>\n",
       "      <td>Feb 7, 2013</td>\n",
       "      <td>The fallout from the interest rate manipulatio...</td>\n",
       "      <td>CNN</td>\n",
       "      <td>30</td>\n",
       "      <td>100</td>\n",
       "    </tr>\n",
       "  </tbody>\n",
       "</table>\n",
       "</div>"
      ],
      "text/plain": [
       "      keyword                                           main_url  \\\n",
       "0  RP TRADING  https://edition.cnn.com/search?size=20&q=RP TR...   \n",
       "1  RP TRADING  https://edition.cnn.com/search?size=20&q=RP TR...   \n",
       "2  RP TRADING  https://edition.cnn.com/search?size=20&q=RP TR...   \n",
       "\n",
       "                                            Headline  \\\n",
       "0             EU fines banks record $2.3B over Libor   \n",
       "1  Three ex-ICAP employees indicted in Libor scandal   \n",
       "2        Rate-fixing scandal shakes three continents   \n",
       "\n",
       "                                        headline_url          Date  \\\n",
       "0  http:money.cnn.com/2013/12/04/news/companies/l...   Dec 4, 2013   \n",
       "1  http:money.cnn.com/2013/09/25/news/companies/i...  Sep 25, 2013   \n",
       "2  www.cnn.com/2013/02/06/business/libor-rate-fix...   Feb 7, 2013   \n",
       "\n",
       "                                             article website  Match  Match_1  \n",
       "0  The European Union has levied a record antitru...     CNN     30      100  \n",
       "1  The Justice Department announced criminal char...     CNN     30      100  \n",
       "2  The fallout from the interest rate manipulatio...     CNN     30      100  "
      ]
     },
     "execution_count": 10,
     "metadata": {},
     "output_type": "execute_result"
    }
   ],
   "source": [
    "cnn_df"
   ]
  },
  {
   "cell_type": "code",
   "execution_count": 11,
   "metadata": {},
   "outputs": [
    {
     "data": {
      "text/plain": [
       "0     Dec 4, 2013\n",
       "1    Sep 25, 2013\n",
       "2     Feb 7, 2013\n",
       "Name: Date, dtype: object"
      ]
     },
     "execution_count": 11,
     "metadata": {},
     "output_type": "execute_result"
    }
   ],
   "source": [
    "cnn_df['Date']"
   ]
  },
  {
   "cell_type": "code",
   "execution_count": 12,
   "metadata": {},
   "outputs": [],
   "source": [
    "import time\n",
    "from datetime import datetime, timedelta\n",
    "todaysdate=datetime.now().strftime(\"%Y-%m-%d\")\n",
    "last_date=(datetime.now() + timedelta(days=-6)).strftime(\"%Y-%m-%d\")"
   ]
  },
  {
   "cell_type": "code",
   "execution_count": 17,
   "metadata": {},
   "outputs": [],
   "source": [
    "cnn_df['date_time_1'] = cnn_df[\"Date\"].apply(lambda x : datetime.strptime(str(x), '%b %d, %Y') if x!='' else None)"
   ]
  },
  {
   "cell_type": "code",
   "execution_count": 18,
   "metadata": {},
   "outputs": [
    {
     "data": {
      "text/plain": [
       "0   2013-12-04\n",
       "1   2013-09-25\n",
       "2   2013-02-07\n",
       "Name: date_time_1, dtype: datetime64[ns]"
      ]
     },
     "execution_count": 18,
     "metadata": {},
     "output_type": "execute_result"
    }
   ],
   "source": [
    "# print(datetime.strptime(str(cnn_df['Date'][1]), '%b %d, %Y'))\n",
    "cnn_df['date_time_1']"
   ]
  },
  {
   "cell_type": "code",
   "execution_count": 32,
   "metadata": {},
   "outputs": [
    {
     "data": {
      "text/plain": [
       "datetime.datetime"
      ]
     },
     "execution_count": 32,
     "metadata": {},
     "output_type": "execute_result"
    }
   ],
   "source": [
    "type(todaysdate)"
   ]
  },
  {
   "cell_type": "code",
   "execution_count": 35,
   "metadata": {},
   "outputs": [
    {
     "data": {
      "text/plain": [
       "0   2013-12-04\n",
       "1   2013-09-25\n",
       "2   2013-02-07\n",
       "Name: date_time_1, dtype: datetime64[ns]"
      ]
     },
     "execution_count": 35,
     "metadata": {},
     "output_type": "execute_result"
    }
   ],
   "source": [
    "import time\n",
    "from datetime import datetime, timedelta\n",
    "todaysdate=datetime.now().strftime(\"%Y-%m-%d\")\n",
    "# todaysdate=datetime.strptime(str(todaysdate), '%Y-%m-%d')\n",
    "last_date=(datetime.now() + timedelta(days=-6)).strftime(\"%Y-%m-%d\")\n",
    "# last_date=datetime.strptime(str(last_date), '%Y-%m-%d')\n",
    "cnn_df['date_time_1']\n"
   ]
  },
  {
   "cell_type": "code",
   "execution_count": 36,
   "metadata": {},
   "outputs": [],
   "source": [
    "import numpy as np\n",
    "cnn_df['date_time_1'] = cnn_df[\"Date\"].apply(lambda x : datetime.strptime(str(x), '%b %d, %Y') if x!='' else None)\n",
    "cnn_df['trigger']=np.where(((cnn_df['date_time_1']>=last_date)\n",
    "                                 &(cnn_df['date_time_1']<=todaysdate))\n",
    "                                & (cnn_df['Match_1']>90),'Y','N')"
   ]
  },
  {
   "cell_type": "code",
   "execution_count": 37,
   "metadata": {},
   "outputs": [
    {
     "data": {
      "text/plain": [
       "0    N\n",
       "1    N\n",
       "2    N\n",
       "Name: trigger, dtype: object"
      ]
     },
     "execution_count": 37,
     "metadata": {},
     "output_type": "execute_result"
    }
   ],
   "source": [
    "cnn_df['trigger']"
   ]
  }
 ],
 "metadata": {
  "kernelspec": {
   "display_name": "Python 3",
   "language": "python",
   "name": "python3"
  },
  "language_info": {
   "codemirror_mode": {
    "name": "ipython",
    "version": 3
   },
   "file_extension": ".py",
   "mimetype": "text/x-python",
   "name": "python",
   "nbconvert_exporter": "python",
   "pygments_lexer": "ipython3",
   "version": "3.8.3"
  }
 },
 "nbformat": 4,
 "nbformat_minor": 4
}
