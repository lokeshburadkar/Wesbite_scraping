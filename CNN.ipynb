{
 "cells": [
  {
   "cell_type": "code",
   "execution_count": 47,
   "metadata": {
    "scrolled": true
   },
   "outputs": [
    {
     "name": "stdout",
     "output_type": "stream",
     "text": [
      "https://edition.cnn.com/search?size=20&q=RP TRADING&sort=newest\n"
     ]
    },
    {
     "name": "stderr",
     "output_type": "stream",
     "text": [
      "<ipython-input-47-08b92d75ee4e>:22: DeprecationWarning: executable_path has been deprecated, please pass in a Service object\n",
      "  driver=webdriver.Chrome(chrome_path)\n"
     ]
    },
    {
     "name": "stdout",
     "output_type": "stream",
     "text": [
      "http:money.cnn.com/2013/12/04/news/companies/libor-europe-fines/index.html\n",
      "EU fines banks record $2.3B over Libor\n",
      "Dec 4, 2013\n",
      "The European Union has levied a record antitrust fine of €1.71 billion ($2.3 billion) on six European and U.S. banks and brokers for rigging benchmark interest rates.  Deutsche Bank was hit with the single biggest penalty of €725.4 million for participating in illegal cartels to manipulate the Euro Interbank Offered Rate, or Euribor, and London interbank offered rate, or Libor. \"What is shocking about the Libor and Euribor scandals is not only the manipulation of benchmarks, which is being tackled by financial regulators worldwide, but also the collusion between banks who are supposed to be competing with each other,\" said Joaquin Almunia, Europe's top antitrust official. Other banks fined Wednesday were Societe Generale (€446 million), Royal Bank of Scotland (€391 million), JP Morgan (€79.9 million) and Citigroup (€70 million). U.K.-based broker RP Martin was fined €247,000 for facilitating one infringement. EU investigators said the Euribor cartel operated for nearly three years between 2005 and 2008, as traders discussed submissions used to calculate the benchmark rate, and compared trading and pricing strategies. They also discovered illegal collusion in the setting of Libor in Japanese yen between 2007 and 2010. \"The settlement relates to past practices of individuals which were in gross violation of Deutsche Bank's values and beliefs,\" said Deutsche co-CEOs Juergen Fitschen and Anshu Jain in a statement. The bank said the fine was already largely covered by existing provisions for litigation costs. Related: Banks fork over $17 billion for misdeeds in 2013 UBS and Barclays, who have already been fined by regulators in the U.K. and U.S. for Libor rigging, were spared further punishment because they cooperated with the European Commission investigation. They dodged new fines of €2.5 billion and €690 million respectively. The scandal broke in the middle of 2012 when Barclays admitted trying to manipulate Libor, which together with related rates is used to price trillions of dollars of financial products around the world.  Wednesday's announcement takes the global total of Libor-related penalties to almost $6 billion. A handful of traders have been charged with criminal offenses.  The EU fine is the latest blow to an industry trying to rebuild its reputation and finances in the wake of a series of legal battles over foreclosure abuses, misleading clients over mortgages, payment protection insurance and other products.  Some of the biggest banks are also facing a global probe into allegations that they manipulated foreign exchange benchmarks to profit at the expense of clients. Related: Bigger than Libor? Forex probe hangs over banks And the Libor story is not over yet. The European Commission is still going after HSBC, Credit Agricole and JP Morgan on related charges, and broker ICAP, who opted out of the settlement on yen Libor. \"We intend to defend ourselves vigorously,\" an HSBC spokesman said. More legal action is likely to follow.  U.S. government-backed Fannie Mae filed a lawsuit in October against nine banks arguing it lost money on mortgages and interest rate swaps when Libor rates were set artificially low. U.S. law firms are also leading civil actions on behalf of investors who claim they lost out due to the market manipulation.  The previous record for a European antitrust fine was 1.47 billion euros, imposed a year ago by the European Commission on six companies who fixed the markets for television and computer screen tubes for a decade. -- CNNMoney's Virginia Harrison contributed to this article.\n",
      "http:money.cnn.com/2013/09/25/news/companies/icap-libor/index.html\n",
      "Three ex-ICAP employees indicted in Libor scandal\n",
      "Sep 25, 2013\n",
      "The Justice Department announced criminal charges Wednesday against three former employees of the U.K.-based brokerage ICAP for allegedly conspiring to rig interest rates. The charges grew out of a multi-year investigation into the manipulation of the London Interbank Offered Rate, or Libor. The charges are against two former derivatives brokers and a former cash broker. ICAP has also agreed to pay a fine of $87 million to the U.K.'s Financial Conduct Authority and the U.S. Commodity Futures Trading Commission. The three men facing charges are Darrell Read of New Zealand and Daniel Wilkinson and Colin Goodman of the United Kingdom. They were not in custody as of Wednesday, and law enforcement officials did not offer details on the prospects for their extradition. \"We're working very closely with our law enforcement counterparts around the world,\" the Justice Department's Mythili Raman said. Related: JPMorgan Chase fined $920 million in 'London Whale' trading loss The U.S. filed criminal charges in December against two former traders from Swiss bank UBS -- Tom Hayes of the U.K. and Roger Darin of Switzerland -- accused of attempting to manipulate rates. UBS, Barclays and Royal Bank of Scotland have paid hundreds of millions of dollars in fines in connection with the scandal, and more than a dozen other banks remain under investigation.  Libor rates, which serve as a benchmark for transactions all over the world, are created each day by polling a panel of large banks on their cost of borrowing. By deliberately engineering false submissions, traders at these firms could move rates to benefit their positions, according to court documents.  Brokerages like ICAP connect buyers and sellers in various kinds of financial products, including traders at large banks, in exchange for commissions. Brokers also provide \"color,\" or market information, to clients. Law enforcement officials say the three ICAP brokers assisted Hayes, the UBS trader, in rigging Libor rates denominated in yen between 2006 and 2011 by offering misleading information to banks formulating their submissions. They are also accused of lobbying Libor submitters at other banks to make submissions based on Hayes' wishes. The CFTC said the suspects also helped other traders manipulate rates \"on limited occasions.\" Hayes is said to have been the brokers' largest client between 2006 and 2009, with Read and Wilkinson earning \"a significant part\" of their compensation based on his commission fees. Goodman allegedly received bonuses through the desk Wilkinson supervised to reward him for his assistance in the scheme, and is said to have been known among colleagues as \"Lord Libor.\" The defendants were also allegedly promised champagne and free meals in exchange for helping to fix rates. ICAP said Wednesday that it was cooperating with regulators, and that it planned to improve its risk and compliance procedures. \"We deeply regret and strongly condemn the inexcusable actions of the brokers who sought to assist certain bank traders in their efforts to manipulate YEN Libor,\" ICAP CEO Michael Spencer said in a statement. \"It is deeply regrettable that the actions of these individuals have compromised the efforts of our 5,000 employees around the world.\" Related: Singapore raps 20 banks for trying to rig rates The five men indicted in the U.S. so far represent just a small fraction of the finance professionals who have been implicated in the Libor scandal so far.  At UBS alone, at least 45 people were involved in or aware of attempts to manipulate rates, according to U.K. authorities. At Royal Bank of Scotland, 21 employees were said to be involved, and a number of traders at Barclays attempted to rig rates as well, according to settlement documents.  Prosecutors in the U.K., where Hayes is also facing charges, said in June that he conspired with colleagues at JPMorgan, RBS, Deutsche Bank, Rabobank, HSBC and brokers RP Martin and Tullet Prebon in addition to ICAP. Hayes is also accusing of attempting to manipulate rates while working at Citigroup. The Justice Department's Raman said the investigation into Libor-rigging remains ongoing. \"It's one of the largest financial fraud investigations the department has ever done,\" she said.  -- CNNMoney's Chris Isidore contributed to this report\n",
      "www.cnn.com/2013/02/06/business/libor-rate-fixing/index.html\n",
      "Rate-fixing scandal shakes three continents\n",
      "Feb 7, 2013\n",
      "The fallout from the interest rate manipulation scandal hit three continents on Wednesday as Royal Bank of Scotland paid £390m ($612m) and admitted criminal price-fixing charges over Libor-rigging. A series of lurid emails cited in the settlement laid bare a culture where employees would readily alter rates in exchange for steak dinners. The plea bargain with RBS -- which is 82 per cent owned by UK taxpayers -- was struck as Deutsche Bank suspended five employees on Wednesday after an investigation into the euro-equivalent of Libor. In a further expansion of the scandal a former Japanese trader accused banks that make submissions to the Tokyo rate of operating a \"cartel\" to profit off home loans. Japan became a particular focus for scrutiny after RBS's Tokyo subsidiary pleaded guilty to one charge of wire fraud and agreed to pay the US Department of Justice $50m of the bank's total fine. RBS's admission of price-fixing came in a deferred prosecution agreement with the DoJ as part of a settlement with the UK Financial Services Authority and the US Commodity Futures Trading Commission. CNNMoney: RBS fined for Libor rigging, more to come Around 10 authorities across the globe are probing as many as 20 of the world's biggest financial institutions over the rigging of Libor, the London Interbank Offered Rate, which determines more than $350tn global contracts, from student loans to interest-rate swaps. The settlement revealed particular problems among traders of derivatives tied to yen Libor. UBS which agreed a $1.5bn settlement in December, was also heavily implicated in manipulating yen Libor rates. Japan's financial regulator said it could impose a banning order on RBS, ranging from a few days to six months, significantly impairing the bank's ability to do business. The Financial Services Agency began inspecting RBS Securities Japan in mid-November, a spokesman told the Financial Times. Fresh accusations by one of the country's former star traders, Hideto \"Eddy\" Takata, only underlined the broad range of issues the regulator may have to confront. Mr Takata alleged on Wednesday that Japanese banks were keeping Tibor -- the Tokyo benchmark rate -- artificially high in order to boost profits on domestic products such as mortgages. Five banks that submit lending rates to the Japanese Bankers' Association declined to comment on the claims. RBS's fine is the second-highest so far, after that imposed on UBS. Barclays made a $450m settlement in June. While Barclays lost its most senior executives as a result, RBS's chairman on Wednesday backed chief executive, Stephen Hester, and said his bonus from 2010 of £2m would not be revoked. John Hourican, chief executive of the bank's markets and international banking division, has resigned over the scandal. He will leave with a year's notice but will forfeit his bonus. The settlement reveals that one of RBS's traders made corrupt payments totalling £200,000 to interdealer brokerages to \"garner influence,\" according to the UK's FSA. Employees of two unnamed brokerage firms were accused of receiving commission from RBS off \"wash trades\" -- trades that cancel each other out and have no commercial rationale. One of the firms is RP Martin, two of whose traders were arrested by the Serious Fraud Office in December as part of its Libor probe. The other is, as yet, unidentified. The readiness of more than 20 of RBS's traders and submitters to alter Libor rates for yen and Swiss-franc currencies was underscored by a flurry of email exchanges cited in the settlement documents. \"If u cud see ur way to a small drop there might be a steak in it for ya, haha,\" wrote one ICAP broker, who was a former RBS trader. ICAP, which has previously acknowledged it is under investigation by the FSA declined to comment. RBS's admission of price-fixing could assist claimants in numerous US class actions, where the bank is one of several defendants and where triple damages can be awarded in antitrust cases. If judges allow the claims to proceed, the banks potentially face trillions of dollars of damages.\n",
      "******************** END ********************\n",
      "https://edition.cnn.com/search?size=20&q=cimb bank&sort=newest\n"
     ]
    },
    {
     "name": "stdout",
     "output_type": "stream",
     "text": [
      "******************** END ********************\n",
      "https://edition.cnn.com/search?size=20&q=rhb bank&sort=newest\n",
      "******************** END ********************\n"
     ]
    }
   ],
   "source": [
    "import webbrowser\n",
    "import requests\n",
    "from bs4 import BeautifulSoup\n",
    "import os\n",
    "import re\n",
    "from selenium import webdriver\n",
    "chrome_path=r\"C:\\Users\\ADMIN\\Desktop\\CIMB Work\\chromedriver.exe\"\n",
    "from datetime import datetime, timedelta\n",
    "todaysdate=datetime.now().strftime(\"%Y-%m-%d\")\n",
    "last_date=(datetime.now() + timedelta(days=-6)).strftime(\"%Y-%m-%d\")\n",
    "keyword=['RP TRADING','cimb bank','rhb bank']\n",
    "url_base=[]\n",
    "headline=[]\n",
    "headline_url=[]\n",
    "cat=[]\n",
    "date=[]\n",
    "article=[]\n",
    "\n",
    "for key in keyword:\n",
    "    base_url=\"https://edition.cnn.com/search?size=20&q={}&sort=newest\".format(key)\n",
    "    print(base_url)\n",
    "    driver=webdriver.Chrome(chrome_path)\n",
    "    driver.get(base_url)\n",
    "    time.sleep(3)\n",
    "    real_soup = BeautifulSoup(driver.page_source, 'html.parser')\n",
    "    driver.quit()\n",
    "    ab=real_soup.find_all(\"div\", {\"class\":\"cnn-search__result cnn-search__result--article\"})\n",
    "    if(ab!=None):\n",
    "        for i in ab:\n",
    "            link=i.find(\"a\",href=True)\n",
    "            link1=link['href'].strip().replace(\"//\",'')\n",
    "            print(link1)\n",
    "            headline_url.append(str(link1))\n",
    "            headline_1 = i.find(\"h3\").get_text().strip()\n",
    "            print(headline_1)\n",
    "            headline.append(str(headline_1))\n",
    "            url_base.append(base_url)\n",
    "            cat.append(key)\n",
    "            date_1=i.find('div',attrs={'class':'cnn-search__result-publish-date'}).get_text().strip()\n",
    "            print(date_1)\n",
    "            date.append(str(date_1))\n",
    "            article_1=i.find('div',attrs={'class':'cnn-search__result-body'}).get_text().strip()\n",
    "            print(article_1)\n",
    "            article.append(article_1)\n",
    "    else:\n",
    "        print(\"No result found\")\n",
    "        headline_url.append(\"No url found\")\n",
    "        headline.append(\"No headline found\")\n",
    "        url_base.append(base_url)\n",
    "        cat.append(key)\n",
    "        date.append(\"\")\n",
    "        article.append(\"\")\n",
    "    print(\"*\"*20,\"END\",\"*\"*20)  "
   ]
  },
  {
   "cell_type": "code",
   "execution_count": 48,
   "metadata": {},
   "outputs": [
    {
     "data": {
      "text/plain": [
       "(3, 6)"
      ]
     },
     "execution_count": 48,
     "metadata": {},
     "output_type": "execute_result"
    }
   ],
   "source": [
    "import pandas as pd\n",
    "df = pd.DataFrame({'keyword':cat,'main_url':url_base, 'Headline':headline,'headline_url': headline_url, 'Date':date,'article':article })\n",
    "df.drop_duplicates(inplace=True)\n",
    "df.shape  "
   ]
  },
  {
   "cell_type": "code",
   "execution_count": 49,
   "metadata": {},
   "outputs": [
    {
     "data": {
      "text/html": [
       "<div>\n",
       "<style scoped>\n",
       "    .dataframe tbody tr th:only-of-type {\n",
       "        vertical-align: middle;\n",
       "    }\n",
       "\n",
       "    .dataframe tbody tr th {\n",
       "        vertical-align: top;\n",
       "    }\n",
       "\n",
       "    .dataframe thead th {\n",
       "        text-align: right;\n",
       "    }\n",
       "</style>\n",
       "<table border=\"1\" class=\"dataframe\">\n",
       "  <thead>\n",
       "    <tr style=\"text-align: right;\">\n",
       "      <th></th>\n",
       "      <th>keyword</th>\n",
       "      <th>main_url</th>\n",
       "      <th>Headline</th>\n",
       "      <th>headline_url</th>\n",
       "      <th>Date</th>\n",
       "      <th>article</th>\n",
       "    </tr>\n",
       "  </thead>\n",
       "  <tbody>\n",
       "    <tr>\n",
       "      <th>0</th>\n",
       "      <td>RP TRADING</td>\n",
       "      <td>https://edition.cnn.com/search?size=20&amp;q=RP TR...</td>\n",
       "      <td>EU fines banks record $2.3B over Libor</td>\n",
       "      <td>http:money.cnn.com/2013/12/04/news/companies/l...</td>\n",
       "      <td>Dec 4, 2013</td>\n",
       "      <td>The European Union has levied a record antitru...</td>\n",
       "    </tr>\n",
       "    <tr>\n",
       "      <th>1</th>\n",
       "      <td>RP TRADING</td>\n",
       "      <td>https://edition.cnn.com/search?size=20&amp;q=RP TR...</td>\n",
       "      <td>Three ex-ICAP employees indicted in Libor scandal</td>\n",
       "      <td>http:money.cnn.com/2013/09/25/news/companies/i...</td>\n",
       "      <td>Sep 25, 2013</td>\n",
       "      <td>The Justice Department announced criminal char...</td>\n",
       "    </tr>\n",
       "    <tr>\n",
       "      <th>2</th>\n",
       "      <td>RP TRADING</td>\n",
       "      <td>https://edition.cnn.com/search?size=20&amp;q=RP TR...</td>\n",
       "      <td>Rate-fixing scandal shakes three continents</td>\n",
       "      <td>www.cnn.com/2013/02/06/business/libor-rate-fix...</td>\n",
       "      <td>Feb 7, 2013</td>\n",
       "      <td>The fallout from the interest rate manipulatio...</td>\n",
       "    </tr>\n",
       "  </tbody>\n",
       "</table>\n",
       "</div>"
      ],
      "text/plain": [
       "      keyword                                           main_url  \\\n",
       "0  RP TRADING  https://edition.cnn.com/search?size=20&q=RP TR...   \n",
       "1  RP TRADING  https://edition.cnn.com/search?size=20&q=RP TR...   \n",
       "2  RP TRADING  https://edition.cnn.com/search?size=20&q=RP TR...   \n",
       "\n",
       "                                            Headline  \\\n",
       "0             EU fines banks record $2.3B over Libor   \n",
       "1  Three ex-ICAP employees indicted in Libor scandal   \n",
       "2        Rate-fixing scandal shakes three continents   \n",
       "\n",
       "                                        headline_url          Date  \\\n",
       "0  http:money.cnn.com/2013/12/04/news/companies/l...   Dec 4, 2013   \n",
       "1  http:money.cnn.com/2013/09/25/news/companies/i...  Sep 25, 2013   \n",
       "2  www.cnn.com/2013/02/06/business/libor-rate-fix...   Feb 7, 2013   \n",
       "\n",
       "                                             article  \n",
       "0  The European Union has levied a record antitru...  \n",
       "1  The Justice Department announced criminal char...  \n",
       "2  The fallout from the interest rate manipulatio...  "
      ]
     },
     "execution_count": 49,
     "metadata": {},
     "output_type": "execute_result"
    }
   ],
   "source": [
    "df.head(12)"
   ]
  },
  {
   "cell_type": "code",
   "execution_count": null,
   "metadata": {},
   "outputs": [],
   "source": []
  },
  {
   "cell_type": "code",
   "execution_count": 50,
   "metadata": {},
   "outputs": [],
   "source": [
    "# import nltk\n",
    "# nltk.download('punkt')\n",
    "# import webbrowser\n",
    "# import re\n",
    "# import time\n",
    "# from newspaper import Article\n",
    "# from newspaper import Config\n",
    "# user_agent = 'Mozilla/5.0 (Macintosh; Intel Mac OS X 10.15; rv:78.0) Gecko/20100101 Firefox/78.0'\n",
    "# config = Config()\n",
    "# config.browser_user_agent = user_agent\n",
    "# title=[]\n",
    "# summary=[]\n",
    "# article=[]\n",
    "# key=[]\n",
    "# date_time=[]\n",
    "# url_1=[]\n",
    "# for url in df.headline_url:\n",
    "#     if url!='No url found':\n",
    "#         print(url)\n",
    "#         time.sleep(5)\n",
    "#         url_1.append(url)\n",
    "#         #For different language newspaper refer above table\n",
    "#         toi_article = Article(url, language=\"en\",config=config) # en for English\n",
    "#         #To download the article\n",
    "#         toi_article.download()\n",
    "#         #To parse the article\n",
    "#         toi_article.parse()\n",
    "#         #To perform natural language processing ie..nlp\n",
    "#         toi_article.nlp()\n",
    "#         #To extract title\n",
    "#         print(\"Article's Title:\")\n",
    "#         print(toi_article.title)\n",
    "#         title.append(toi_article.title)\n",
    "#         print(\"n\")\n",
    "#         #To extract text\n",
    "#         print(\"Article's Text:\")\n",
    "#         print(toi_article.text)\n",
    "#         article.append(toi_article.text)\n",
    "#         print(\"n\")\n",
    "#         #To extract summary\n",
    "#         print(\"Article's Summary:\")\n",
    "#         print(toi_article.summary)\n",
    "#         summary.append(toi_article.summary)\n",
    "#         print(\"n\")\n",
    "#         #To extract keywords\n",
    "#         print(\"Article's Keywords:\")\n",
    "#         print(toi_article.keywords)\n",
    "#         key.append(toi_article.keywords)\n",
    "#         date_time.append(toi_article.publish_date)\n",
    "        \n",
    "#     else:\n",
    "#         url_1.append(url)\n",
    "#         title.append(\"\")\n",
    "#         article.append(\"\")\n",
    "#         summary.append(\"\")\n",
    "#         key.append(\"\")\n",
    "#         date_time.append(\"\")"
   ]
  },
  {
   "cell_type": "code",
   "execution_count": 51,
   "metadata": {},
   "outputs": [],
   "source": [
    "# df[\"article\"]=article\n",
    "# df[\"date_time\"]=date_time\n",
    "# df[\"title\"]=title\n",
    "# df[\"summary\"]=summary\n",
    "# df[\"key\"]=key\n",
    "# df[\"url\"]=url_1\n",
    "# df[\"source\"]=\"reuters\""
   ]
  },
  {
   "cell_type": "code",
   "execution_count": 52,
   "metadata": {},
   "outputs": [],
   "source": [
    "# df2=df[['keyword','source','url','date_time','title','summary','article']]\n",
    "# df2.shape"
   ]
  },
  {
   "cell_type": "code",
   "execution_count": 53,
   "metadata": {},
   "outputs": [],
   "source": [
    "import warnings\n",
    "warnings.filterwarnings('ignore')\n",
    "from fuzzywuzzy import fuzz\n",
    "df['Match'] = df.apply(lambda x: fuzz.partial_ratio(x['keyword'], x['article']), axis=1)\n",
    "df['Match_1'] = df.apply(lambda x: fuzz.token_set_ratio(x['keyword'], x['article']), axis=1)"
   ]
  },
  {
   "cell_type": "code",
   "execution_count": 54,
   "metadata": {},
   "outputs": [
    {
     "data": {
      "text/html": [
       "<div>\n",
       "<style scoped>\n",
       "    .dataframe tbody tr th:only-of-type {\n",
       "        vertical-align: middle;\n",
       "    }\n",
       "\n",
       "    .dataframe tbody tr th {\n",
       "        vertical-align: top;\n",
       "    }\n",
       "\n",
       "    .dataframe thead th {\n",
       "        text-align: right;\n",
       "    }\n",
       "</style>\n",
       "<table border=\"1\" class=\"dataframe\">\n",
       "  <thead>\n",
       "    <tr style=\"text-align: right;\">\n",
       "      <th></th>\n",
       "      <th>keyword</th>\n",
       "      <th>main_url</th>\n",
       "      <th>Headline</th>\n",
       "      <th>headline_url</th>\n",
       "      <th>Date</th>\n",
       "      <th>article</th>\n",
       "      <th>Match</th>\n",
       "      <th>Match_1</th>\n",
       "    </tr>\n",
       "  </thead>\n",
       "  <tbody>\n",
       "    <tr>\n",
       "      <th>0</th>\n",
       "      <td>RP TRADING</td>\n",
       "      <td>https://edition.cnn.com/search?size=20&amp;q=RP TR...</td>\n",
       "      <td>EU fines banks record $2.3B over Libor</td>\n",
       "      <td>http:money.cnn.com/2013/12/04/news/companies/l...</td>\n",
       "      <td>Dec 4, 2013</td>\n",
       "      <td>The European Union has levied a record antitru...</td>\n",
       "      <td>30</td>\n",
       "      <td>100</td>\n",
       "    </tr>\n",
       "    <tr>\n",
       "      <th>1</th>\n",
       "      <td>RP TRADING</td>\n",
       "      <td>https://edition.cnn.com/search?size=20&amp;q=RP TR...</td>\n",
       "      <td>Three ex-ICAP employees indicted in Libor scandal</td>\n",
       "      <td>http:money.cnn.com/2013/09/25/news/companies/i...</td>\n",
       "      <td>Sep 25, 2013</td>\n",
       "      <td>The Justice Department announced criminal char...</td>\n",
       "      <td>30</td>\n",
       "      <td>100</td>\n",
       "    </tr>\n",
       "    <tr>\n",
       "      <th>2</th>\n",
       "      <td>RP TRADING</td>\n",
       "      <td>https://edition.cnn.com/search?size=20&amp;q=RP TR...</td>\n",
       "      <td>Rate-fixing scandal shakes three continents</td>\n",
       "      <td>www.cnn.com/2013/02/06/business/libor-rate-fix...</td>\n",
       "      <td>Feb 7, 2013</td>\n",
       "      <td>The fallout from the interest rate manipulatio...</td>\n",
       "      <td>30</td>\n",
       "      <td>100</td>\n",
       "    </tr>\n",
       "  </tbody>\n",
       "</table>\n",
       "</div>"
      ],
      "text/plain": [
       "      keyword                                           main_url  \\\n",
       "0  RP TRADING  https://edition.cnn.com/search?size=20&q=RP TR...   \n",
       "1  RP TRADING  https://edition.cnn.com/search?size=20&q=RP TR...   \n",
       "2  RP TRADING  https://edition.cnn.com/search?size=20&q=RP TR...   \n",
       "\n",
       "                                            Headline  \\\n",
       "0             EU fines banks record $2.3B over Libor   \n",
       "1  Three ex-ICAP employees indicted in Libor scandal   \n",
       "2        Rate-fixing scandal shakes three continents   \n",
       "\n",
       "                                        headline_url          Date  \\\n",
       "0  http:money.cnn.com/2013/12/04/news/companies/l...   Dec 4, 2013   \n",
       "1  http:money.cnn.com/2013/09/25/news/companies/i...  Sep 25, 2013   \n",
       "2  www.cnn.com/2013/02/06/business/libor-rate-fix...   Feb 7, 2013   \n",
       "\n",
       "                                             article  Match  Match_1  \n",
       "0  The European Union has levied a record antitru...     30      100  \n",
       "1  The Justice Department announced criminal char...     30      100  \n",
       "2  The fallout from the interest rate manipulatio...     30      100  "
      ]
     },
     "execution_count": 54,
     "metadata": {},
     "output_type": "execute_result"
    }
   ],
   "source": [
    "df"
   ]
  },
  {
   "cell_type": "code",
   "execution_count": null,
   "metadata": {},
   "outputs": [],
   "source": []
  },
  {
   "cell_type": "code",
   "execution_count": 52,
   "metadata": {},
   "outputs": [],
   "source": [
    "df.to_csv(\"CNN.csv\",index=False)"
   ]
  }
 ],
 "metadata": {
  "kernelspec": {
   "display_name": "Python 3",
   "language": "python",
   "name": "python3"
  },
  "language_info": {
   "codemirror_mode": {
    "name": "ipython",
    "version": 3
   },
   "file_extension": ".py",
   "mimetype": "text/x-python",
   "name": "python",
   "nbconvert_exporter": "python",
   "pygments_lexer": "ipython3",
   "version": "3.8.3"
  }
 },
 "nbformat": 4,
 "nbformat_minor": 4
}
