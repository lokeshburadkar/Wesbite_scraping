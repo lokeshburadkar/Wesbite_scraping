{
 "cells": [
  {
   "cell_type": "code",
   "execution_count": 17,
   "metadata": {
    "scrolled": true
   },
   "outputs": [],
   "source": [
    "def reuters_scrap(keyword):\n",
    "    import webbrowser\n",
    "    import time\n",
    "    import requests\n",
    "    from bs4 import BeautifulSoup\n",
    "    import os\n",
    "    import re\n",
    "    from selenium import webdriver\n",
    "    chrome_path=r\"C:\\Users\\ADMIN\\Desktop\\CIMB Work\\chromedriver.exe\"\n",
    "    from datetime import datetime, timedelta\n",
    "    todaysdate=datetime.now().strftime(\"%Y-%m-%d\")\n",
    "    last_date=(datetime.now() + timedelta(days=-6)).strftime(\"%Y-%m-%d\")\n",
    "    import warnings\n",
    "    warnings.filterwarnings('ignore')\n",
    "    url_base=[]\n",
    "    headline=[]\n",
    "    headline_url=[]\n",
    "    cat=[]\n",
    "\n",
    "    for key in keyword:\n",
    "        base_url=\"https://www.reuters.com/site-search/?query={}&date=past_24_hours&offset=0\".format(key)\n",
    "        driver=webdriver.Chrome(chrome_path)\n",
    "        driver.get(base_url)\n",
    "        time.sleep(3)\n",
    "        real_soup = BeautifulSoup(driver.page_source, 'html.parser')\n",
    "        driver.quit()\n",
    "        ab=real_soup.find_all(\"li\", {\"class\":\"search-results__item___178TyG\"})\n",
    "        if(ab!=None):\n",
    "            for i in ab:\n",
    "                link=i.find(\"a\",href=True)\n",
    "                link1=link['href'].strip()\n",
    "                link2=\"https://www.reuters.com\"+link1\n",
    "                headline_url.append(link2)\n",
    "                head_title=link.get_text().strip()\n",
    "                headline.append(head_title)\n",
    "                url_base.append(base_url)\n",
    "                cat.append(key)\n",
    "        else:\n",
    "            headline_url.append(\"No url found\")\n",
    "            headline.append(\"No headline found\")\n",
    "            url_base.append(base_url)\n",
    "            cat.append(key)\n",
    "            \n",
    "    import pandas as pd\n",
    "    df = pd.DataFrame({'keyword':cat,'main_url':url_base, 'Headline':headline,'headline_url': headline_url })\n",
    "    df.drop_duplicates(inplace=True)        \n",
    "    import nltk\n",
    "    nltk.download('punkt')\n",
    "    import webbrowser\n",
    "    import re\n",
    "    import time\n",
    "    from newspaper import Article\n",
    "    from newspaper import Config\n",
    "    user_agent = 'Mozilla/5.0 (Macintosh; Intel Mac OS X 10.15; rv:78.0) Gecko/20100101 Firefox/78.0'\n",
    "    config = Config()\n",
    "    config.browser_user_agent = user_agent\n",
    "    title=[]\n",
    "    summary=[]\n",
    "    article=[]\n",
    "    key=[]\n",
    "    date_time=[]\n",
    "    url_1=[]\n",
    "    for url in df.headline_url:\n",
    "        if url!='No url found':\n",
    "            time.sleep(5)\n",
    "            url_1.append(url)\n",
    "            toi_article = Article(url, language=\"en\",config=config) # en for English\n",
    "            toi_article.download()\n",
    "            toi_article.parse()\n",
    "            toi_article.nlp()\n",
    "            title.append(toi_article.title)\n",
    "            article.append(toi_article.text)\n",
    "            summary.append(toi_article.summary)\n",
    "            key.append(toi_article.keywords)\n",
    "            date_time.append(toi_article.publish_date)\n",
    "\n",
    "        else:\n",
    "            url_1.append(url)\n",
    "            title.append(\"\")\n",
    "            article.append(\"\")\n",
    "            summary.append(\"\")\n",
    "            key.append(\"\")\n",
    "            date_time.append(\"\")\n",
    "            \n",
    "    df[\"article\"]=article\n",
    "    df[\"date_time\"]=date_time\n",
    "    df[\"title\"]=title\n",
    "    df[\"summary\"]=summary\n",
    "    df[\"key\"]=key\n",
    "    df[\"url\"]=url_1\n",
    "    df[\"source\"]=\"reuters\"  \n",
    "    df2=df[['keyword','source','url','date_time','title','summary','article']].copy()\n",
    "\n",
    "#     from fuzzywuzzy import fuzz\n",
    "#     df2['Match'] = df2.apply(lambda x: fuzz.partial_ratio(x['keyword'], x['article']), axis=1)\n",
    "#     df2['Match_1'] = df2.apply(lambda x: fuzz.token_set_ratio(x['keyword'], x['article']), axis=1)\n",
    "    \n",
    "    return df2"
   ]
  },
  {
   "cell_type": "code",
   "execution_count": 18,
   "metadata": {},
   "outputs": [
    {
     "name": "stderr",
     "output_type": "stream",
     "text": [
      "[nltk_data] Downloading package punkt to\n",
      "[nltk_data]     C:\\Users\\ADMIN\\AppData\\Roaming\\nltk_data...\n",
      "[nltk_data]   Package punkt is already up-to-date!\n"
     ]
    }
   ],
   "source": [
    "keyword=['RP TRADING','CIMB bank','RHB bank','maybank']\n",
    "df_reuters=reuters_scrap(keyword)"
   ]
  },
  {
   "cell_type": "code",
   "execution_count": 19,
   "metadata": {
    "scrolled": true
   },
   "outputs": [
    {
     "data": {
      "text/html": [
       "<div>\n",
       "<style scoped>\n",
       "    .dataframe tbody tr th:only-of-type {\n",
       "        vertical-align: middle;\n",
       "    }\n",
       "\n",
       "    .dataframe tbody tr th {\n",
       "        vertical-align: top;\n",
       "    }\n",
       "\n",
       "    .dataframe thead th {\n",
       "        text-align: right;\n",
       "    }\n",
       "</style>\n",
       "<table border=\"1\" class=\"dataframe\">\n",
       "  <thead>\n",
       "    <tr style=\"text-align: right;\">\n",
       "      <th></th>\n",
       "      <th>keyword</th>\n",
       "      <th>source</th>\n",
       "      <th>url</th>\n",
       "      <th>date_time</th>\n",
       "      <th>title</th>\n",
       "      <th>summary</th>\n",
       "      <th>article</th>\n",
       "    </tr>\n",
       "  </thead>\n",
       "  <tbody>\n",
       "  </tbody>\n",
       "</table>\n",
       "</div>"
      ],
      "text/plain": [
       "Empty DataFrame\n",
       "Columns: [keyword, source, url, date_time, title, summary, article]\n",
       "Index: []"
      ]
     },
     "execution_count": 19,
     "metadata": {},
     "output_type": "execute_result"
    }
   ],
   "source": [
    "df_reuters"
   ]
  },
  {
   "cell_type": "code",
   "execution_count": 14,
   "metadata": {
    "scrolled": true
   },
   "outputs": [
    {
     "data": {
      "text/plain": [
       "0    2022-03-01\n",
       "1    2022-03-01\n",
       "2    2022-03-01\n",
       "3    2022-03-01\n",
       "4    2022-03-01\n",
       "5    2022-02-28\n",
       "6    2022-03-01\n",
       "7    2022-02-26\n",
       "8    2022-03-01\n",
       "9    2022-03-01\n",
       "10   2022-03-01\n",
       "11   2022-03-01\n",
       "12   2022-03-01\n",
       "13   2022-02-28\n",
       "14   2022-03-01\n",
       "15   2022-03-01\n",
       "16   2022-03-01\n",
       "17   2022-03-01\n",
       "18   2022-03-01\n",
       "19   2022-03-01\n",
       "20   2022-03-01\n",
       "21   2022-03-01\n",
       "22   2022-03-01\n",
       "23   2022-02-28\n",
       "24   2022-03-01\n",
       "25   2022-03-01\n",
       "26   2022-03-01\n",
       "27   2022-03-01\n",
       "28   2022-03-01\n",
       "29   2022-03-01\n",
       "Name: date_time, dtype: datetime64[ns]"
      ]
     },
     "execution_count": 14,
     "metadata": {},
     "output_type": "execute_result"
    }
   ],
   "source": [
    "import time\n",
    "from datetime import datetime, timedelta\n",
    "todaysdate=datetime.now().strftime(\"%Y-%m-%d\")\n",
    "last_date=(datetime.now() + timedelta(days=-6)).strftime(\"%Y-%m-%d\")\n",
    "df_reuters['date_time']"
   ]
  },
  {
   "cell_type": "code",
   "execution_count": 12,
   "metadata": {},
   "outputs": [],
   "source": [
    "import numpy as np\n",
    "df_reuters['trigger']=np.where(((df_reuters['date_time']>=last_date)\n",
    "                                 &(df_reuters['date_time']<=todaysdate))\n",
    "                                & (df_reuters['Match_1']>90),'Y','N')"
   ]
  },
  {
   "cell_type": "code",
   "execution_count": 13,
   "metadata": {
    "scrolled": true
   },
   "outputs": [
    {
     "data": {
      "text/plain": [
       "0     N\n",
       "1     N\n",
       "2     N\n",
       "3     N\n",
       "4     N\n",
       "5     N\n",
       "6     N\n",
       "7     N\n",
       "8     N\n",
       "9     N\n",
       "10    N\n",
       "11    N\n",
       "12    N\n",
       "13    N\n",
       "14    N\n",
       "15    N\n",
       "16    N\n",
       "17    N\n",
       "18    N\n",
       "19    N\n",
       "20    N\n",
       "21    N\n",
       "22    N\n",
       "23    N\n",
       "24    N\n",
       "25    N\n",
       "26    N\n",
       "27    N\n",
       "28    N\n",
       "29    N\n",
       "Name: trigger, dtype: object"
      ]
     },
     "execution_count": 13,
     "metadata": {},
     "output_type": "execute_result"
    }
   ],
   "source": [
    "df_reuters['trigger']"
   ]
  }
 ],
 "metadata": {
  "kernelspec": {
   "display_name": "Python 3",
   "language": "python",
   "name": "python3"
  },
  "language_info": {
   "codemirror_mode": {
    "name": "ipython",
    "version": 3
   },
   "file_extension": ".py",
   "mimetype": "text/x-python",
   "name": "python",
   "nbconvert_exporter": "python",
   "pygments_lexer": "ipython3",
   "version": "3.8.3"
  }
 },
 "nbformat": 4,
 "nbformat_minor": 4
}
